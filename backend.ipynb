{
  "nbformat": 4,
  "nbformat_minor": 0,
  "metadata": {
    "colab": {
      "provenance": []
    },
    "kernelspec": {
      "name": "python3",
      "display_name": "Python 3"
    },
    "language_info": {
      "name": "python"
    }
  },
  "cells": [
    {
      "cell_type": "code",
      "execution_count": null,
      "metadata": {
        "colab": {
          "base_uri": "https://localhost:8080/"
        },
        "id": "TPS0ojwu7n5L",
        "outputId": "b59f463f-289f-445f-f550-ea1775aca713"
      },
      "outputs": [
        {
          "output_type": "stream",
          "name": "stdout",
          "text": [
            "Collecting pickle-mixin\n",
            "  Downloading pickle-mixin-1.0.2.tar.gz (5.1 kB)\n",
            "  Preparing metadata (setup.py) ... \u001b[?25l\u001b[?25hdone\n",
            "Building wheels for collected packages: pickle-mixin\n",
            "  Building wheel for pickle-mixin (setup.py) ... \u001b[?25l\u001b[?25hdone\n",
            "  Created wheel for pickle-mixin: filename=pickle_mixin-1.0.2-py3-none-any.whl size=5991 sha256=2182caa102f855db14ced5339c0e8e8c309408f95ab80080b53f16f6610e7b11\n",
            "  Stored in directory: /root/.cache/pip/wheels/3e/c6/e9/d1b0a34e1efc6c3ec9c086623972c6de6317faddb2af0a619c\n",
            "Successfully built pickle-mixin\n",
            "Installing collected packages: pickle-mixin\n",
            "Successfully installed pickle-mixin-1.0.2\n"
          ]
        }
      ],
      "source": [
        "!pip install pickle-mixin"
      ]
    },
    {
      "cell_type": "markdown",
      "source": [
        "**Importing required libraries:**"
      ],
      "metadata": {
        "id": "qRxs7Sme9aZt"
      }
    },
    {
      "cell_type": "code",
      "source": [
        "import pandas as pd\n",
        "from sklearn.feature_extraction.text import CountVectorizer\n",
        "from sklearn.metrics.pairwise import cosine_similarity\n",
        "import pickle"
      ],
      "metadata": {
        "id": "H0eFI4Sf9WUG"
      },
      "execution_count": null,
      "outputs": []
    },
    {
      "cell_type": "markdown",
      "source": [
        "**Gathering data:**"
      ],
      "metadata": {
        "id": "fbYZ3rIx9nfh"
      }
    },
    {
      "cell_type": "code",
      "source": [
        "movies = pd.read_csv( '/content/top10K-TMDB-movies.csv' )\n",
        "print( movies.head() )"
      ],
      "metadata": {
        "colab": {
          "base_uri": "https://localhost:8080/"
        },
        "id": "lYd4N2uG9qVy",
        "outputId": "fed497f9-dc83-4ea1-ff30-cbc7ab342344"
      },
      "execution_count": null,
      "outputs": [
        {
          "output_type": "stream",
          "name": "stdout",
          "text": [
            "      id                        title                 genre original_language  \\\n",
            "0    278     The Shawshank Redemption           Drama,Crime                en   \n",
            "1  19404  Dilwale Dulhania Le Jayenge  Comedy,Drama,Romance                hi   \n",
            "2    238                The Godfather           Drama,Crime                en   \n",
            "3    424             Schindler's List     Drama,History,War                en   \n",
            "4    240       The Godfather: Part II           Drama,Crime                en   \n",
            "\n",
            "                                            overview  popularity release_date  \\\n",
            "0  Framed in the 1940s for the double murder of h...      94.075   1994-09-23   \n",
            "1  Raj is a rich, carefree, happy-go-lucky second...      25.408   1995-10-19   \n",
            "2  Spanning the years 1945 to 1955, a chronicle o...      90.585   1972-03-14   \n",
            "3  The true story of how businessman Oskar Schind...      44.761   1993-12-15   \n",
            "4  In the continuing saga of the Corleone crime f...      57.749   1974-12-20   \n",
            "\n",
            "   vote_average  vote_count  \n",
            "0           8.7       21862  \n",
            "1           8.7        3731  \n",
            "2           8.7       16280  \n",
            "3           8.6       12959  \n",
            "4           8.6        9811  \n"
          ]
        }
      ]
    },
    {
      "cell_type": "markdown",
      "source": [
        "**Data preprocessing:**"
      ],
      "metadata": {
        "id": "idd_IMXn-FB3"
      }
    },
    {
      "cell_type": "code",
      "source": [
        "print( movies.isnull().sum() )"
      ],
      "metadata": {
        "colab": {
          "base_uri": "https://localhost:8080/"
        },
        "id": "wgAr3XLL91Am",
        "outputId": "439e07ab-5a02-466d-f3cc-389e2b9e6b5b"
      },
      "execution_count": null,
      "outputs": [
        {
          "output_type": "stream",
          "name": "stdout",
          "text": [
            "id                    0\n",
            "title                 0\n",
            "genre                 3\n",
            "original_language     0\n",
            "overview             13\n",
            "popularity            0\n",
            "release_date          0\n",
            "vote_average          0\n",
            "vote_count            0\n",
            "dtype: int64\n"
          ]
        }
      ]
    },
    {
      "cell_type": "code",
      "source": [
        "print( movies.columns )"
      ],
      "metadata": {
        "colab": {
          "base_uri": "https://localhost:8080/"
        },
        "id": "5pOQyAed_A5n",
        "outputId": "a0374373-5a21-4375-be9c-79c72cca8899"
      },
      "execution_count": null,
      "outputs": [
        {
          "output_type": "stream",
          "name": "stdout",
          "text": [
            "Index(['id', 'title', 'genre', 'original_language', 'overview', 'popularity',\n",
            "       'release_date', 'vote_average', 'vote_count'],\n",
            "      dtype='object')\n"
          ]
        }
      ]
    },
    {
      "cell_type": "code",
      "source": [
        "sub_dataset = movies[ [ 'id', 'title', 'genre', 'original_language', 'overview', 'popularity' ] ]\n",
        "print( sub_dataset.head )"
      ],
      "metadata": {
        "colab": {
          "base_uri": "https://localhost:8080/"
        },
        "id": "FSgYwHHk_Ens",
        "outputId": "b32cc984-cfd2-4dad-876d-446f023cb11e"
      },
      "execution_count": null,
      "outputs": [
        {
          "output_type": "stream",
          "name": "stdout",
          "text": [
            "<bound method NDFrame.head of           id                                          title  \\\n",
            "0        278                       The Shawshank Redemption   \n",
            "1      19404                    Dilwale Dulhania Le Jayenge   \n",
            "2        238                                  The Godfather   \n",
            "3        424                               Schindler's List   \n",
            "4        240                         The Godfather: Part II   \n",
            "...      ...                                            ...   \n",
            "9995   10196                             The Last Airbender   \n",
            "9996  331446                       Sharknado 3: Oh Hell No!   \n",
            "9997   13995                                Captain America   \n",
            "9998    2312  In the Name of the King: A Dungeon Siege Tale   \n",
            "9999  455957                                         Domino   \n",
            "\n",
            "                                                 genre original_language  \\\n",
            "0                                          Drama,Crime                en   \n",
            "1                                 Comedy,Drama,Romance                hi   \n",
            "2                                          Drama,Crime                en   \n",
            "3                                    Drama,History,War                en   \n",
            "4                                          Drama,Crime                en   \n",
            "...                                                ...               ...   \n",
            "9995                          Action,Adventure,Fantasy                en   \n",
            "9996  Action,TV Movie,Science Fiction,Comedy,Adventure                en   \n",
            "9997                        Action,Science Fiction,War                en   \n",
            "9998                    Adventure,Fantasy,Action,Drama                en   \n",
            "9999                             Thriller,Action,Crime                en   \n",
            "\n",
            "                                               overview  popularity  \n",
            "0     Framed in the 1940s for the double murder of h...      94.075  \n",
            "1     Raj is a rich, carefree, happy-go-lucky second...      25.408  \n",
            "2     Spanning the years 1945 to 1955, a chronicle o...      90.585  \n",
            "3     The true story of how businessman Oskar Schind...      44.761  \n",
            "4     In the continuing saga of the Corleone crime f...      57.749  \n",
            "...                                                 ...         ...  \n",
            "9995  The story follows the adventures of Aang, a yo...      98.322  \n",
            "9996  The sharks take bite out of the East Coast whe...      12.490  \n",
            "9997  During World War II, a brave, patriotic Americ...      18.333  \n",
            "9998  A man named Farmer sets out to rescue his kidn...      15.159  \n",
            "9999  Seeking justice for his partner’s murder by an...      16.482  \n",
            "\n",
            "[10000 rows x 6 columns]>\n"
          ]
        }
      ]
    },
    {
      "cell_type": "code",
      "source": [
        "sub_dataset[ 'description' ] = sub_dataset[ 'genre' ] + sub_dataset[ 'original_language' ] + sub_dataset[ 'overview' ]\n",
        "sub_dataset = sub_dataset.drop( [ 'genre', 'original_language', 'overview' ], axis = 1 )\n",
        "print( sub_dataset.head )"
      ],
      "metadata": {
        "colab": {
          "base_uri": "https://localhost:8080/"
        },
        "id": "5Q4-Vdr4_Xtj",
        "outputId": "1c8a0851-0c15-41b3-c54c-fcf7b784747f"
      },
      "execution_count": null,
      "outputs": [
        {
          "output_type": "stream",
          "name": "stdout",
          "text": [
            "<bound method NDFrame.head of           id                                          title  popularity  \\\n",
            "0        278                       The Shawshank Redemption      94.075   \n",
            "1      19404                    Dilwale Dulhania Le Jayenge      25.408   \n",
            "2        238                                  The Godfather      90.585   \n",
            "3        424                               Schindler's List      44.761   \n",
            "4        240                         The Godfather: Part II      57.749   \n",
            "...      ...                                            ...         ...   \n",
            "9995   10196                             The Last Airbender      98.322   \n",
            "9996  331446                       Sharknado 3: Oh Hell No!      12.490   \n",
            "9997   13995                                Captain America      18.333   \n",
            "9998    2312  In the Name of the King: A Dungeon Siege Tale      15.159   \n",
            "9999  455957                                         Domino      16.482   \n",
            "\n",
            "                                            description  \n",
            "0     Drama,CrimeenFramed in the 1940s for the doubl...  \n",
            "1     Comedy,Drama,RomancehiRaj is a rich, carefree,...  \n",
            "2     Drama,CrimeenSpanning the years 1945 to 1955, ...  \n",
            "3     Drama,History,WarenThe true story of how busin...  \n",
            "4     Drama,CrimeenIn the continuing saga of the Cor...  \n",
            "...                                                 ...  \n",
            "9995  Action,Adventure,FantasyenThe story follows th...  \n",
            "9996  Action,TV Movie,Science Fiction,Comedy,Adventu...  \n",
            "9997  Action,Science Fiction,WarenDuring World War I...  \n",
            "9998  Adventure,Fantasy,Action,DramaenA man named Fa...  \n",
            "9999  Thriller,Action,CrimeenSeeking justice for his...  \n",
            "\n",
            "[10000 rows x 4 columns]>\n"
          ]
        },
        {
          "output_type": "stream",
          "name": "stderr",
          "text": [
            "<ipython-input-7-2346c976cdb8>:1: SettingWithCopyWarning: \n",
            "A value is trying to be set on a copy of a slice from a DataFrame.\n",
            "Try using .loc[row_indexer,col_indexer] = value instead\n",
            "\n",
            "See the caveats in the documentation: https://pandas.pydata.org/pandas-docs/stable/user_guide/indexing.html#returning-a-view-versus-a-copy\n",
            "  sub_dataset[ 'description' ] = sub_dataset[ 'genre' ] + sub_dataset[ 'original_language' ] + sub_dataset[ 'overview' ]\n"
          ]
        }
      ]
    },
    {
      "cell_type": "code",
      "source": [
        "converter = CountVectorizer( max_features = 10000, stop_words = 'english' )\n",
        "vectors = converter.fit_transform( sub_dataset[ 'description' ].values.astype( 'U' ) ).toarray()"
      ],
      "metadata": {
        "id": "QtbflwJVAPAf"
      },
      "execution_count": null,
      "outputs": []
    },
    {
      "cell_type": "code",
      "source": [
        "print( vectors )"
      ],
      "metadata": {
        "colab": {
          "base_uri": "https://localhost:8080/"
        },
        "id": "hwgliF7CA0vr",
        "outputId": "840a5c88-bc92-4e2d-efc2-dcd2bc041ac2"
      },
      "execution_count": null,
      "outputs": [
        {
          "output_type": "stream",
          "name": "stdout",
          "text": [
            "[[0 0 0 ... 0 0 0]\n",
            " [0 0 0 ... 0 0 0]\n",
            " [0 0 0 ... 0 0 0]\n",
            " ...\n",
            " [0 0 0 ... 0 0 0]\n",
            " [0 0 0 ... 0 0 0]\n",
            " [0 0 0 ... 0 0 0]]\n"
          ]
        }
      ]
    },
    {
      "cell_type": "code",
      "source": [
        "print( vectors.shape )"
      ],
      "metadata": {
        "colab": {
          "base_uri": "https://localhost:8080/"
        },
        "id": "RhIBQHfpA37J",
        "outputId": "f9368371-47ff-441f-b410-99d5d1a96d2c"
      },
      "execution_count": null,
      "outputs": [
        {
          "output_type": "stream",
          "name": "stdout",
          "text": [
            "(10000, 10000)\n"
          ]
        }
      ]
    },
    {
      "cell_type": "markdown",
      "source": [
        "**Building recommendation system:**"
      ],
      "metadata": {
        "id": "07Ol56omBWS4"
      }
    },
    {
      "cell_type": "code",
      "source": [
        "similar_vectors = cosine_similarity( vectors )\n",
        "print( similar_vectors )"
      ],
      "metadata": {
        "colab": {
          "base_uri": "https://localhost:8080/"
        },
        "id": "A2xI82sKA6-8",
        "outputId": "d705d6b9-a202-4e33-e934-626159938827"
      },
      "execution_count": null,
      "outputs": [
        {
          "output_type": "stream",
          "name": "stdout",
          "text": [
            "[[1.         0.06253054 0.05802589 ... 0.07963978 0.07597372 0.03481553]\n",
            " [0.06253054 1.         0.08980265 ... 0.         0.         0.        ]\n",
            " [0.05802589 0.08980265 1.         ... 0.02541643 0.03636965 0.        ]\n",
            " ...\n",
            " [0.07963978 0.         0.02541643 ... 1.         0.03327792 0.03049971]\n",
            " [0.07597372 0.         0.03636965 ... 0.03327792 1.         0.04364358]\n",
            " [0.03481553 0.         0.         ... 0.03049971 0.04364358 1.        ]]\n"
          ]
        }
      ]
    },
    {
      "cell_type": "markdown",
      "source": [
        "**Testing:**"
      ],
      "metadata": {
        "id": "OMnAsHjlBg9W"
      }
    },
    {
      "cell_type": "code",
      "source": [
        "sub_dataset[ sub_dataset[ 'title' ] == 'Dilwale Dulhania Le Jayenge' ].index[ 0 ]"
      ],
      "metadata": {
        "colab": {
          "base_uri": "https://localhost:8080/"
        },
        "id": "YcJM6rgfBIAj",
        "outputId": "8fae9420-4070-4998-93f5-34e5e2a1474c"
      },
      "execution_count": null,
      "outputs": [
        {
          "output_type": "execute_result",
          "data": {
            "text/plain": [
              "1"
            ]
          },
          "metadata": {},
          "execution_count": 12
        }
      ]
    },
    {
      "cell_type": "code",
      "source": [
        "gap = sorted( list( enumerate( similar_vectors[ 1 ] ) ), reverse = True, key = lambda vectors : vectors[ 1 ] )\n",
        "for _ in gap[ 1 : 6 ]:\n",
        "  print( sub_dataset.iloc[ _[ 0 ] ].title )"
      ],
      "metadata": {
        "colab": {
          "base_uri": "https://localhost:8080/"
        },
        "id": "FMHP85e2CFUD",
        "outputId": "9d5d48c7-f4fc-400d-b54b-edbaad239f02"
      },
      "execution_count": null,
      "outputs": [
        {
          "output_type": "stream",
          "name": "stdout",
          "text": [
            "The Cheetah Girls: One World\n",
            "A Passage to India\n",
            "Fatal Attraction\n",
            "Noelle\n",
            "Just Married\n"
          ]
        }
      ]
    },
    {
      "cell_type": "markdown",
      "source": [
        "**Testing of recommendation based on user input:**"
      ],
      "metadata": {
        "id": "O-hhESDjDLPC"
      }
    },
    {
      "cell_type": "code",
      "source": [
        "def recommend_acc_to( movie ):\n",
        "  index = sub_dataset[ sub_dataset[ 'title' ] == movie ].index[ 0 ]\n",
        "  gap = sorted( list( enumerate( similar_vectors[ index ] ) ), reverse = True, key = lambda vectors : vectors[ 1 ] )\n",
        "  for _ in gap[ 1 : 6 ]:\n",
        "    print( sub_dataset.iloc[ _[ 0 ] ].title )\n",
        "\n",
        "user_input = input( 'Enter a movie name:' )\n",
        "recommend_acc_to( user_input )"
      ],
      "metadata": {
        "colab": {
          "base_uri": "https://localhost:8080/"
        },
        "id": "RsXBttyAC1Zq",
        "outputId": "1df8dfd0-f9ad-4fb3-9be6-6a16df79764a"
      },
      "execution_count": null,
      "outputs": [
        {
          "output_type": "stream",
          "name": "stdout",
          "text": [
            "Enter a movie name:Iron Man\n",
            "Mazinger Z: Infinity\n",
            "Justice League Dark\n",
            "Iron Man 3\n",
            "The Colony\n",
            "Marvel One-Shot: Item 47\n"
          ]
        }
      ]
    },
    {
      "cell_type": "markdown",
      "source": [
        "**Deploying models:**"
      ],
      "metadata": {
        "id": "CNmfAdhtFPWP"
      }
    },
    {
      "cell_type": "code",
      "source": [
        "pickle.dump( sub_dataset, open( 'movies_list.pkl', 'wb' ) )\n",
        "pickle.dump( similar_vectors, open( 'similar_movies.pkl', 'wb' ) )"
      ],
      "metadata": {
        "id": "7kldZ43fEVmZ"
      },
      "execution_count": null,
      "outputs": []
    }
  ]
}